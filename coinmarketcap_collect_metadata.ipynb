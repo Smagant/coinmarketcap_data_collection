{
 "cells": [
  {
   "cell_type": "markdown",
   "metadata": {},
   "source": [
    "# Collect all the metadata for one or multiple coin(s)\n",
    "\n",
    "#### Process of this program :\n",
    "* Collect metadata for one or multiple coin(s)\n",
    "* Store metadata in a single json file "
   ]
  },
  {
   "cell_type": "markdown",
   "metadata": {},
   "source": [
    "### Import the libraries"
   ]
  },
  {
   "cell_type": "code",
   "execution_count": 24,
   "metadata": {},
   "outputs": [],
   "source": [
    "from requests import Request, Session\n",
    "from requests.exceptions import ConnectionError, Timeout, TooManyRedirects\n",
    "import json\n",
    "import pandas as pd"
   ]
  },
  {
   "cell_type": "markdown",
   "metadata": {},
   "source": [
    "### Parameters for the query"
   ]
  },
  {
   "cell_type": "code",
   "execution_count": 25,
   "metadata": {},
   "outputs": [],
   "source": [
    "#Base URL to access the data on the API\n",
    "url = 'https://pro-api.coinmarketcap.com/v2/cryptocurrency/info'\n",
    "\n",
    "#Query parameters\n",
    "parameters = {\n",
    "  #'id': '', #CoinMarketCap cryptocurrency IDs\n",
    "  #'slug': '', #Cryptocurrency name(s)\n",
    "  #'symbol' : '', #Cryptocurrency symbol(s)\n",
    "  #'address': '' #Contract address\n",
    "}\n",
    "\n",
    "#Metadata parameters\n",
    "headers = {\n",
    "  'Accepts': 'application/json',\n",
    "  'X-CMC_PRO_API_KEY': 'API_KEY',\n",
    "}\n",
    "\n",
    "#Path to store the json file\n",
    "BASE_URL = \"path/to/store/yourdata\"\n",
    "\n",
    "#Used for naming the json file that will store the metadata\n",
    "cryptocurrency_name = 'Cryptocurrency_name' "
   ]
  },
  {
   "cell_type": "markdown",
   "metadata": {},
   "source": [
    "### Run the query"
   ]
  },
  {
   "cell_type": "code",
   "execution_count": 26,
   "metadata": {},
   "outputs": [],
   "source": [
    "session = Session()\n",
    "session.headers.update(headers)\n",
    "\n",
    "try:\n",
    "  response = session.get(url, params=parameters)\n",
    "  data = json.loads(response.text)\n",
    "  #print(data)\n",
    "except (ConnectionError, Timeout, TooManyRedirects) as e:\n",
    "  print(e)"
   ]
  },
  {
   "cell_type": "markdown",
   "metadata": {},
   "source": [
    "### Save all of the data to a json file"
   ]
  },
  {
   "cell_type": "code",
   "execution_count": 27,
   "metadata": {},
   "outputs": [],
   "source": [
    "filename = BASE_URL + cryptocurrency_name + \".json\"\n",
    "\n",
    "with open(filename, 'w') as outfile:\n",
    "    json.dump(data, outfile, indent=4)"
   ]
  }
 ],
 "metadata": {
  "kernelspec": {
   "display_name": "Python 3.9.1 64-bit",
   "language": "python",
   "name": "python3"
  },
  "language_info": {
   "codemirror_mode": {
    "name": "ipython",
    "version": 3
   },
   "file_extension": ".py",
   "mimetype": "text/x-python",
   "name": "python",
   "nbconvert_exporter": "python",
   "pygments_lexer": "ipython3",
   "version": "3.9.1"
  },
  "orig_nbformat": 4,
  "vscode": {
   "interpreter": {
    "hash": "5242ca461c9896c5dd1762074b6eb490d7d6fe018ebfbec855bc06f248d384cc"
   }
  }
 },
 "nbformat": 4,
 "nbformat_minor": 2
}
